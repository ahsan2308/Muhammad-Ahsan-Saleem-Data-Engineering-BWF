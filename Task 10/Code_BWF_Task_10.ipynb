{
 "cells": [
  {
   "cell_type": "code",
   "execution_count": 5,
   "id": "e052487a-8a42-4111-b5eb-5d4a00cbf7ad",
   "metadata": {},
   "outputs": [],
   "source": [
    "from pyspark.sql import SparkSession"
   ]
  },
  {
   "cell_type": "code",
   "execution_count": 6,
   "id": "efb5ac1a-cf24-4bc8-8a81-ffc8356f7b53",
   "metadata": {},
   "outputs": [],
   "source": [
    "# Initialize the SparkSession\n",
    "spark = SparkSession.builder.appName(\"SalesDataProcessing\").getOrCreate()"
   ]
  },
  {
   "cell_type": "code",
   "execution_count": 7,
   "id": "e1fabf6a-0b15-4268-a28e-ae35c56f81d8",
   "metadata": {},
   "outputs": [],
   "source": [
    "# Read the CSV file\n",
    "file_path = r'C:\\Users\\mahsa\\Desktop\\Data\\Bytewise Fellowship\\Daily Tasks\\Month 1\\Task 10\\Resources\\dataset.csv'\n",
    "sales_data = spark.read.csv(file_path, header=True, inferSchema=True)"
   ]
  },
  {
   "cell_type": "code",
   "execution_count": 8,
   "id": "63cc0adc-ff81-4d32-978b-7699f4374dc7",
   "metadata": {},
   "outputs": [
    {
     "name": "stdout",
     "output_type": "stream",
     "text": [
      "+--------------------+--------+----------+-------+---------+--------------------+--------------------+---------------+-----------------+----------------+--------------------+\n",
      "|             item_id|order_id|product_id| amount|   status|      item_timestamp|            location|  customer_name|   customer_phone|         country|         description|\n",
      "+--------------------+--------+----------+-------+---------+--------------------+--------------------+---------------+-----------------+----------------+--------------------+\n",
      "|4dc01ae9-c1a8-461...|  160794|       647|2237.23|Cancelled|2024-01-13 21:34:...|        East Cameron|Richard Stevens|(774)709-6342x106|       Guatemala|Room as address h...|\n",
      "|cafaa69b-f0c5-42c...|  105101|       127|2029.17|     NULL|2024-04-24 03:22:...|   East Richardville|     Keith Lamb|924-443-4084x8236|Saint Barthelemy|Nice beat despite...|\n",
      "|77944e0c-f500-456...|  510841|       243| 848.88|Cancelled|2024-05-29 17:05:...|South Christinaburgh|  Patrick Allen| 001-734-642-3018|      Mauritania|Accept part crime...|\n",
      "|1019711d-53c9-401...|  259964|       209| 614.64| Returned|2024-01-03 02:18:...|    South Jeremybury|    Wendy White|  +1-210-390-0363|        Cameroon|Top huge old beha...|\n",
      "|8e4497f4-78f2-495...|  270130|       637| 2898.0|     NULL|2024-05-14 21:24:...|          Duncanland|   Dustin Hicks|     230.673.9935|        Maldives|Style there TV so...|\n",
      "+--------------------+--------+----------+-------+---------+--------------------+--------------------+---------------+-----------------+----------------+--------------------+\n",
      "only showing top 5 rows\n",
      "\n"
     ]
    }
   ],
   "source": [
    "# Display the first few rows\n",
    "sales_data.show(5)"
   ]
  }
 ],
 "metadata": {
  "kernelspec": {
   "display_name": "Python 3 (ipykernel)",
   "language": "python",
   "name": "python3"
  },
  "language_info": {
   "codemirror_mode": {
    "name": "ipython",
    "version": 3
   },
   "file_extension": ".py",
   "mimetype": "text/x-python",
   "name": "python",
   "nbconvert_exporter": "python",
   "pygments_lexer": "ipython3",
   "version": "3.12.4"
  }
 },
 "nbformat": 4,
 "nbformat_minor": 5
}
